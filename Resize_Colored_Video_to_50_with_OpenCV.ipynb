{
  "nbformat": 4,
  "nbformat_minor": 0,
  "metadata": {
    "colab": {
      "provenance": [],
      "authorship_tag": "ABX9TyMQL6cRqFgu/VOrCd8T1ovw",
      "include_colab_link": true
    },
    "kernelspec": {
      "name": "python3",
      "display_name": "Python 3"
    },
    "language_info": {
      "name": "python"
    }
  },
  "cells": [
    {
      "cell_type": "markdown",
      "metadata": {
        "id": "view-in-github",
        "colab_type": "text"
      },
      "source": [
        "<a href=\"https://colab.research.google.com/github/kabir-kj/Mini-Project-18-Resize-the-Colored-Video-to-50-smaller-using-OpenCV/blob/main/Resize_Colored_Video_to_50_with_OpenCV.ipynb\" target=\"_parent\"><img src=\"https://colab.research.google.com/assets/colab-badge.svg\" alt=\"Open In Colab\"/></a>"
      ]
    },
    {
      "cell_type": "code",
      "execution_count": null,
      "metadata": {
        "id": "RHFlrUDkt284"
      },
      "outputs": [],
      "source": [
        "!pip install opencv-python"
      ]
    },
    {
      "cell_type": "code",
      "source": [
        "import cv2\n",
        "import numpy as np\n",
        "\n",
        "# reading the vedio\n",
        "source = cv2.VideoCapture('vid.mp4')\n",
        "\n",
        "# We need to set resolutions.\n",
        "# so, convert them from float to integer.\n",
        "frame_width = int(source.get(3)/2)\n",
        "frame_height = int(source.get(4)/2)\n",
        "\n",
        "size = (frame_width, frame_height)\n",
        "\n",
        "result = cv2.VideoWriter('smol.avi', cv2.VideoWriter_fourcc(*'XVID'),  10, size)\n",
        "\n",
        "# running the loop\n",
        "while True:\n",
        "\n",
        "    # extracting the frames\n",
        "    ret, img = source.read()\n",
        "    if ret == True:\n",
        "        scale_percent = 50 # percent of original size\n",
        "        width = int(img.shape[1] * scale_percent / 100)\n",
        "        height = int(img.shape[0] * scale_percent / 100)\n",
        "        dim = (width, height)\n",
        "        resize = cv2.resize(img, dim, interpolation = cv2.INTER_AREA)\n",
        "        result.write(resize)\n",
        "\n",
        "    else:\n",
        "        break\n"
      ],
      "metadata": {
        "id": "ECMrnLSqt8hg"
      },
      "execution_count": 1,
      "outputs": []
    }
  ]
}